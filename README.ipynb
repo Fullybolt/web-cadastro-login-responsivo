{
  "metadata": {
    "kernelspec": {
      "name": "python",
      "display_name": "Python (Pyodide)",
      "language": "python"
    },
    "language_info": {
      "codemirror_mode": "sql",
      "file_extension": "",
      "mimetype": "",
      "name": "sql",
      "version": "3.32.3"
    }
  },
  "nbformat_minor": 4,
  "nbformat": 4,
  "cells": [
    {
      "cell_type": "markdown",
      "source": "# Tutorial: `PHP` Criação de um Sistema de Login Simples\n\nNeste tutorial, você aprenderá a criar um sistema de login simples com PHP e MySQL. Abaixo, apresentarei os passos e fornecerei os códigos relevantes [`CONTINUAÇÃO WEB-CADASTRO-LOGIN-RESPONSIVO`](https://github.com/weiner-rezcue98/web-cadastro-login-responsivo) Todos os códigos foram atualizados no repositório indicado anteriormente, esse então faz parte de uma continuação do anterior.",
      "metadata": {}
    },
    {
      "cell_type": "markdown",
      "source": "## Requisitos",
      "metadata": {}
    },
    {
      "cell_type": "markdown",
      "source": "- Um ambiente de desenvolvimento local ou um servidor web configurado com PHP e MySQL.;\n- Um banco de dados MySQL com uma tabela de usuários (aqui chamada \"usuarios\") que contém informações como email e senha.;",
      "metadata": {}
    },
    {
      "cell_type": "markdown",
      "source": "## Passo 1: Estrutura de Diretórios\n\nCertifique-se de que seus arquivos estejam organizados em um diretório como este:",
      "metadata": {}
    },
    {
      "cell_type": "raw",
      "source": "projeto/\n├──> includes/ (configurações para registro)\n│   ├──> dbconfig.php\n│   ├──> register.php\n├──> includes-users/ (configurações para login)\n│   ├──> db_config.php \n│   ├──> login.php    \n├──> auth-login-2.html\n├──> painel-user.php (Painel do Usuário)\n\n-----------------------------\n├──> node_modules\n│   ├──>cpf-check\n│   ├──>cpf-cnpj-validator\n│   ├──>.package-lock.json\n├──> vendor\n├──> assets/\n│   ├──>css\n│   ├──>fonts\n│   ├──>images\n│   ├──>js\n│   ├──>libs",
      "metadata": {
        "tags": []
      }
    },
    {
      "cell_type": "markdown",
      "source": "Modificar a ordem e nomes de diretório e arquivos, lembre-se de alterar no código",
      "metadata": {}
    },
    {
      "cell_type": "markdown",
      "source": "## Passo 2: Arquivo de Configuração do Banco de Dados (dbconfig.php)\n\nCrie um arquivo chamado **dbconfig.php** no diretório includes-users para lidar com a configuração do banco de dados:",
      "metadata": {}
    },
    {
      "cell_type": "raw",
      "source": "<?php\n$db_host = \"localhost\";\n$db_user = \"root\";\n$db_password = \"\";\n$db_name = \"sua_basedados\";\n\n$conn = new mysqli($db_host, $db_user, $db_password, $db_name);\n\nif ($conn->connect_error) {\n    die(\"Erro na conexão com o banco de dados: \" . $conn->connect_error);\n}\n?>",
      "metadata": {}
    },
    {
      "cell_type": "markdown",
      "source": "Certifique-se de ajustar as informações de conexão do banco de dados (como o nome do banco de dados) de acordo com o seu ambiente.",
      "metadata": {}
    },
    {
      "cell_type": "markdown",
      "source": "## Passo 3: Página de Login (auth-login-2.html)\n\nCrie uma página de login chamada **auth-login-2.html** para que os usuários possam inserir suas credenciais. Aqui está um exemplo de código HTML:",
      "metadata": {}
    },
    {
      "cell_type": "raw",
      "source": "\n<!doctype html>\n<html lang=\"en\">\n\n    \n\n<head>\n        \n        <meta charset=\"utf-8\" />\n        <title>Login | Weiner Solutions</title> \n        <meta name=\"viewport\" content=\"width=device-width, initial-scale=1.0\">\n        <meta content=\"Faça login com sua conta, e acesse o sistema\" name=\"description\" />\n        <meta content=\"Sua_Marca\" name=\"author\" />\n        <!-- App favicon -->\n        <link rel=\"shortcut icon\" href=\"assets/images/favicon.ico\">\n\n        <!-- owl.carousel css -->\n        <link rel=\"stylesheet\" href=\"assets/libs/owl.carousel/assets/owl.carousel.min.css\">\n\n        <link rel=\"stylesheet\" href=\"assets/libs/owl.carousel/assets/owl.theme.default.min.css\">\n\n        <!-- Bootstrap Css -->\n        <link href=\"assets/css/bootstrap.min.css\" id=\"bootstrap-style\" rel=\"stylesheet\" type=\"text/css\" />\n        <!-- Icones Css -->\n        <link href=\"assets/css/icons.min.css\" rel=\"stylesheet\" type=\"text/css\" />\n        <!-- App Css-->\n        <link href=\"assets/css/app.min.css\" id=\"app-style\" rel=\"stylesheet\" type=\"text/css\" />\n        <!-- \n        <style>\n.auth-full-page-content {\n    background-color: rgb(241, 241, 241); /* Fundo branco com opacidade de 0.8 (0 a 1) */\n    padding: 20px; /* Ajuste o preenchimento conforme necessário */\n}\n\n\n            </style>-->\n    </head>\n\n    <body class=\"auth-body-bg\">\n        \n        <div>\n            <div class=\"container-fluid p-0\">\n                <div class=\"row g-0\">\n                    \n                    <div class=\"col-xl-9\">\n                        <div class=\"auth-full-bg pt-lg-5 p-4\" style=\"background-image: url('assets/images/bg-papel.jpg'); background-size: cover; background-position: center;\">\n                            <div class=\"w-100\">\n                                <div class=\"bg-overlay\"></div>\n                                <div class=\"d-flex h-100 flex-column\">\n    \n                                    <div class=\"p-4 mt-auto\">\n                                        <div class=\"row justify-content-center\">\n                                            <div class=\"col-lg-7\">\n                                                <div class=\"text-center\">\n                                                    \n                                                    \n                                                    \n                                                    <div dir=\"ltr\">\n                                                        <div class=\"owl-carousel owl-theme auth-review-carousel\" id=\"auth-review-carousel\">\n                                                            <div class=\"item\">\n                                                                <div class=\"py-3\">\n                                                                    <p class=\"font-size-16 mb-4 text-white\">\"Transformando ideias em soluções digitais personalizadas que impulsionam o sucesso dos negócios.\"</p>\n    \n                                                                    <div>\n                                                                        <h4 class=\"font-size-16 text-primary text-white\">2023</h4>\n                                                                        <p class=\"font-size-14 mb-0 text-white\">- Pedro Weiner</p>\n                                                                    </div>\n                                                                </div>\n                                                                \n                                                            </div>\n    \n                                                            <div class=\"item\">\n                                                                <div class=\"py-3\">\n                                                                    <p class=\"font-size-16 mb-4 text-white\">\" Projetos de software que entregam resultados tangíveis e elevam o desempenho de negócios. \"</p>\n    \n                                                                    <div>\n                                                                        <h4 class=\"font-size-16 text-primary text-white\">2023</h4>\n                                                                        <p class=\"font-size-14 mb-0 text-white\">- Pedro Weiner</p>\n                                                                    </div>\n                                                                </div>\n                                                                \n                                                            </div>\n                                                        </div>\n                                                    </div>\n                                                </div>\n                                            </div>\n                                        </div>\n                                    </div>\n                                </div>\n                            </div>\n                        </div>\n                    </div>\n                    <!-- end col -->\n\n                    <div class=\"col-xl-3\">\n                        <div class=\"auth-full-page-content p-md-5 p-4 auth-form-bg\">\n                            <div class=\"w-100\">\n\n                                <div class=\"d-flex flex-column h-100\">\n                                    <div class=\"mb-4 mb-md-5\">\n                                        <a href=\"index.html\" class=\"d-block auth-logo\">\n                                            <img src=\"assets/images/logo-dark.png\" alt=\"\" height=\"18\" class=\"auth-logo-dark\">\n                                            <img src=\"assets/images/logo-light.png\" alt=\"\" height=\"18\" class=\"auth-logo-light\">\n                                        </a>\n                                    </div>\n                                    <div class=\"my-auto\">\n                                        \n                                        <div>\n                                            <h5 class=\"text-primary\">Bem vindo(a)!</h5>\n                                            <p class=\"text-muted\">Faça o login para continuar.</p>\n                                        </div>\n            \n                                        <div class=\"mt-4\">\n                                            <form action=\"includes-users/login.php\" method=\"post\">\n                \n                                                <div class=\"mb-3\">\n                                                    <label for=\"useremail\" class=\"form-label\">Nome de usuário / E-mail</label>\n                                                    <input type=\"email\" class=\"form-control\" id=\"useremail\" name=\"useremail\" placeholder=\"Seu nome de usuário ou e-mail\">\n                                                </div>\n                        \n                                                <div class=\"mb-3\">\n                                                    <div class=\"float-end\">\n                                                        <a href=\"#\" class=\"text-muted\">Esqueceu sua senha?</a>\n                                                    </div>\n                                                    <label class=\"form-label\">Senha</label>\n                                                    <div class=\"input-group auth-pass-inputgroup\">\n                                                        <input type=\"password\" class=\"form-control\" id=\"userpassword\" name=\"userpassword\" placeholder=\"Sua senha\" aria-label=\"Password\" aria-describedby=\"password-addon\">\n                                                        <button class=\"btn btn-light \" type=\"button\" id=\"password-addon\"><i class=\"mdi mdi-eye-outline\"></i></button>\n                                                    </div>\n                                                </div>\n                        \n                                                \n                                                <div class=\"mt-3 d-grid\">\n                                                    <button class=\"btn btn-primary waves-effect waves-light\" type=\"submit\">Acessar</button>\n                                                </div>\n                    \n                                                \n                                                <div class=\"mt-4 text-center\">\n                                                    <h5 class=\"font-size-14 mb-3\">Acessar como:</h5>\n                    \n                                                    <ul class=\"list-inline\">\n                                                        <li class=\"list-inline-item\">\n                                                            <a href=\"javascript::void()\" class=\"social-list-item bg-primary text-white border-primary\">\n                                                                <i class=\"mdi mdi-facebook\"></i>\n                                                            </a>\n                                                        </li>\n                                                        <li class=\"list-inline-item\">\n                                                            <a href=\"javascript::void()\" class=\"social-list-item bg-info text-white border-info\">\n                                                                <i class=\"mdi mdi-twitter\"></i>\n                                                            </a>\n                                                        </li>\n                                                        <li class=\"list-inline-item\">\n                                                            <a href=\"javascript::void()\" class=\"social-list-item bg-danger text-white border-danger\">\n                                                                <i class=\"mdi mdi-google\"></i>\n                                                            </a>\n                                                        </li>\n                                                    </ul>\n                                                </div>\n\n                                            </form>\n                                            <div class=\"mt-5 text-center\">\n                                                <p>Não possui uma conta? <a href=\"auth-register-2.html\" class=\"fw-medium text-primary\"> Cadastre-se </a> </p>\n                                            </div>\n                                        </div>\n                                    </div>\n\n                                    <div class=\"mt-4 mt-md-5 text-center\">\n                                        <p class=\"mb-0\">© <script>document.write(new Date().getFullYear())</script> Weiner. Desenvolvido <i class=\"mdi mdi-heart text-danger\"></i> by Pedro Weiner</p>\n                                    </div>\n                                </div>\n                                \n                                \n                            </div>\n                        </div>\n                    </div>\n                    <!-- end col -->\n                </div>\n                <!-- end row -->\n            </div>\n            <!-- end container-fluid -->\n        </div>\n\n        <!-- JAVASCRIPT -->\n        <script src=\"assets/libs/jquery/jquery.min.js\"></script>\n        <script src=\"assets/libs/bootstrap/js/bootstrap.bundle.min.js\"></script>\n        <script src=\"assets/libs/metismenu/metisMenu.min.js\"></script>\n        <script src=\"assets/libs/simplebar/simplebar.min.js\"></script>\n        <script src=\"assets/libs/node-waves/waves.min.js\"></script>\n\n        <!-- owl.carousel js -->\n        <script src=\"assets/libs/owl.carousel/owl.carousel.min.js\"></script>\n\n        <!-- auth-2-carousel init -->\n        <script src=\"assets/js/pages/auth-2-carousel.init.js\"></script>\n        \n        <!-- App js -->\n        <script src=\"assets/js/app.js\"></script>\n\n    </body>\n\n\n</html>",
      "metadata": {}
    },
    {
      "cell_type": "markdown",
      "source": "## Passo 4: Script de Login (login.php)\n\nCrie um script chamado **login.php** no diretório **includes-users** para lidar com a autenticação de login:",
      "metadata": {}
    },
    {
      "cell_type": "raw",
      "source": "<?php\nif ($_SERVER[\"REQUEST_METHOD\"] == \"POST\") {\n    $useremail = $_POST['useremail'];\n    $userpassword = $_POST['userpassword'];\n\n    // Conexão com o banco de dados\n    require_once(\"dbconfig.php\");\n\n    // Consulta SQL para verificar as credenciais do usuário\n    $sql = \"SELECT * FROM usuarios WHERE email = ? AND senha = ?\";\n    $stmt = $conn->prepare($sql);\n    $stmt->bind_param(\"ss\", $useremail, $userpassword);\n    $stmt->execute();\n    $result = $stmt->get_result();\n\n    if ($result->num_rows > 0) {\n        // Autenticação bem-sucedida, redireciona para a página principal\n        session_start();\n        $_SESSION['autenticado'] = true;\n        header('Location: ../painel-user.php');\n        exit();\n    } else {\n        // Autenticação falhou, redireciona de volta para a página de login\n        header('Location: ../auth-login-2.html');\n        exit();\n    }\n\n    $stmt->close();\n    $conn->close();\n}\n?>\n",
      "metadata": {}
    },
    {
      "cell_type": "markdown",
      "source": "Este script verifica se o email e a senha correspondem a um registro no banco de dados e, se for o caso, inicia uma sessão para autenticar o usuário.",
      "metadata": {}
    },
    {
      "cell_type": "markdown",
      "source": "## Passo 5: Página do Painel de Usuário (painel-user.php)\n\nCrie uma página chamada **painel-user.php** que os usuários autenticados acessarão após fazer login:",
      "metadata": {}
    },
    {
      "cell_type": "raw",
      "source": "<?php\nsession_start();\n\n// Verifique se o usuário está autenticado\nif (!isset($_SESSION['autenticado']) || $_SESSION['autenticado'] !== true) {\n    // Se o usuário não estiver autenticado, redirecione para a página de login\n    header('Location: auth-login-2.html');\n    exit();\n}\n\n// Conteúdo do painel de usuário\n// Adicione o HTML e o conteúdo do painel aqui\n?>\n",
      "metadata": {}
    },
    {
      "cell_type": "markdown",
      "source": "## ATUALIZAÇÕES\n\nNosso projeto de sistema de login simples possui várias características que o tornam uma implementação robusta e segura. Vou detalhar algumas das boas práticas e proteções que implementamos em várias etapas do projeto:",
      "metadata": {}
    },
    {
      "cell_type": "markdown",
      "source": "- **Conexão ao Banco de Dados:**\nCriamos uma conexão segura com o banco de dados usando a extensão MySQLi do PHP. Essa extensão oferece suporte a declarações preparadas, o que ajuda a prevenir ataques de injeção SQL.\n\n- **Declarações Preparadas:** Utilizamos declarações preparadas ao inserir dados no banco de dados, garantindo que os dados sejam escapados corretamente e evitando a injeção de SQL. Isso é implementado no arquivo register.php com o uso de prepare e bind_param.\n\n- **Proteção de Senhas:** Armazenamos as senhas de forma segura usando funções de hash, como password_hash, no arquivo register.php. Isso torna as senhas mais seguras, pois são armazenadas como hashes irrecuperáveis.\n\n- **Verificação de Credenciais:** No arquivo login.php, verificamos as credenciais do usuário com uma consulta SQL e depois redirecionamos o usuário com base na autenticação bem-sucedida ou falha.\n\n- **Uso de Sessões:** Implementamos o uso de sessões no arquivo painel-user.php para garantir que apenas usuários autenticados acessem o painel. Verificamos a autenticação no início do arquivo e redirecionamos o usuário de volta para a página de login, se necessário.\n\n- **Redirecionamento após Autenticação:** Após o login bem-sucedido, redirecionamos o usuário para a página do painel, garantindo uma experiência contínua de usuário.\n\n- **Experiência do Usuário:** Melhoramos a experiência do usuário com mensagens de erro informativas e links de \"Esqueceu sua senha?\" no formulário de login.\n\n- **Proteção Contra Erros SQL:** No arquivo login.php, incluímos uma verificação de erro ao executar a consulta SQL para capturar possíveis erros de banco de dados.\n\n- **Comentários Explicativos:** Adicionamos comentários em todo o código para tornar o projeto mais compreensível e para que outros desenvolvedores possam facilmente entender o que cada parte do código faz.",
      "metadata": {}
    },
    {
      "cell_type": "markdown",
      "source": "No geral, nosso projeto tem como objetivo criar um sistema de login seguro e funcional. Embora tenhamos implementado várias medidas de segurança, é importante mencionar que a segurança é um tópico complexo e em constante evolução. Para projetos reais, é altamente recomendável considerar medidas adicionais, como proteção contra ataques de força bruta, implementação de HTTPS, criptografia de senha mais avançada, entre outros. Além disso, é fundamental manter seu ambiente de hospedagem e software atualizados para garantir a segurança contínua de sua aplicação.",
      "metadata": {}
    }
  ]
}